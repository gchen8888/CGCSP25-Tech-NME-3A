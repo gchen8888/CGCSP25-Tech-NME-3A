{
  "nbformat": 4,
  "nbformat_minor": 0,
  "metadata": {
    "colab": {
      "provenance": []
    },
    "kernelspec": {
      "name": "python3",
      "display_name": "Python 3"
    },
    "language_info": {
      "name": "python"
    }
  },
  "cells": [
    {
      "cell_type": "markdown",
      "source": [
        "**Practice Linear Programming**\n",
        "\n",
        "Feel free to refer to the demo done in lecture: https://colab.research.google.com/drive/10yYw97pNP6SoNrXjHcijKnDB7oKyLkv5?usp=sharing\n"
      ],
      "metadata": {
        "id": "WOAEPfv7fnin"
      }
    },
    {
      "cell_type": "markdown",
      "source": [
        "\n",
        "Suppose Cornell dinning halls produce **80 kg of food waste per day**.\n",
        "\n",
        "They can either:\n",
        "\n",
        "1. **Compost** it, with a cost of $0.12/kg and the impact of 2 points per kg (environmental impact :)\n",
        "\n",
        "2. **Donate** it to a local food bank with the cost of $0.25/kg and impact of 5 points per kg (social impact :)\n",
        "\n",
        "However Cornell dinning halls must 1. process **all 80 kg** of food waste every day 2. stay within a **$15 budget**\n",
        "\n",
        "Goal: Use Linear Programming to decide how much food to compost and how much to donate in order to **maximize total impact**.\n",
        "\n",
        "Please make sure you answer the following:\n",
        "  - How many kg of food to **compost**\n",
        "  - How many kg of food to **donate**\n",
        "  - What is the **total impact score**\n"
      ],
      "metadata": {
        "id": "u90UTfejgQzM"
      }
    },
    {
      "cell_type": "code",
      "source": [
        "#remember to make a copy of this colab before you start"
      ],
      "metadata": {
        "id": "ZnLarxm5g1QU"
      },
      "execution_count": null,
      "outputs": []
    },
    {
      "cell_type": "code",
      "source": [],
      "metadata": {
        "id": "s5o8rVH3g7PI"
      },
      "execution_count": null,
      "outputs": []
    },
    {
      "cell_type": "markdown",
      "source": [
        "Reflection (Required)\n",
        "\n",
        "**How can linear programming be incorporated into projects you are currently working on or might work on in the future in GreenClub?**  "
      ],
      "metadata": {
        "id": "MVYjxd-fijPQ"
      }
    },
    {
      "cell_type": "markdown",
      "source": [
        "Response:"
      ],
      "metadata": {
        "id": "65ynsxbvit9S"
      }
    }
  ]
}